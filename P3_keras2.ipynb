{
 "cells": [
  {
   "cell_type": "code",
   "execution_count": 1,
   "metadata": {
    "collapsed": false
   },
   "outputs": [
    {
     "name": "stderr",
     "output_type": "stream",
     "text": [
      "Using TensorFlow backend.\n"
     ]
    }
   ],
   "source": [
    "import json\n",
    "\n",
    "import h5py\n",
    "import numpy as np\n",
    "import pandas\n",
    "from keras.layers import Dense, ZeroPadding2D, Convolution2D, MaxPooling2D, Dropout\n",
    "from keras.layers import Flatten\n",
    "from keras.models import Sequential\n",
    "from keras.optimizers import Adam\n",
    "import scipy\n",
    "from scipy.misc import imresize\n",
    "from scipy.ndimage import imread\n",
    "from scipy.misc import toimage\n",
    "import cv2, numpy as np\n",
    "from PIL import Image\n",
    "\n",
    "img_width = 80\n",
    "img_height = 40"
   ]
  },
  {
   "cell_type": "code",
   "execution_count": 2,
   "metadata": {
    "collapsed": false
   },
   "outputs": [],
   "source": [
    "#from socketIO_client import SocketIO, LoggingNamespace"
   ]
  },
  {
   "cell_type": "code",
   "execution_count": 3,
   "metadata": {
    "collapsed": false
   },
   "outputs": [],
   "source": [
    "import socketio"
   ]
  },
  {
   "cell_type": "code",
   "execution_count": 4,
   "metadata": {
    "collapsed": true
   },
   "outputs": [],
   "source": [
    "data = pandas.read_csv(\n",
    "        'D:/Self Driving Car Engineer/P3/data/driving_log.csv',\n",
    "        names=['center', 'left', 'right', 'steering', 'throttle', 'brake', 'speed'])"
   ]
  },
  {
   "cell_type": "code",
   "execution_count": 5,
   "metadata": {
    "collapsed": false
   },
   "outputs": [
    {
     "data": {
      "text/plain": [
       "' 0'"
      ]
     },
     "execution_count": 5,
     "metadata": {},
     "output_type": "execute_result"
    }
   ],
   "source": [
    "data['steering'].values[1]"
   ]
  },
  {
   "cell_type": "code",
   "execution_count": 6,
   "metadata": {
    "collapsed": false
   },
   "outputs": [
    {
     "name": "stdout",
     "output_type": "stream",
     "text": [
      "0                                       center\n",
      "1       IMG/center_2016_12_01_13_30_48_287.jpg\n",
      "2       IMG/center_2016_12_01_13_30_48_404.jpg\n",
      "3       IMG/center_2016_12_01_13_31_12_937.jpg\n",
      "4       IMG/center_2016_12_01_13_31_13_037.jpg\n",
      "5       IMG/center_2016_12_01_13_31_13_177.jpg\n",
      "6       IMG/center_2016_12_01_13_31_13_279.jpg\n",
      "7       IMG/center_2016_12_01_13_31_13_381.jpg\n",
      "8       IMG/center_2016_12_01_13_31_13_482.jpg\n",
      "9       IMG/center_2016_12_01_13_31_13_584.jpg\n",
      "10      IMG/center_2016_12_01_13_31_13_686.jpg\n",
      "11      IMG/center_2016_12_01_13_31_13_786.jpg\n",
      "12      IMG/center_2016_12_01_13_31_13_890.jpg\n",
      "13      IMG/center_2016_12_01_13_31_13_991.jpg\n",
      "14      IMG/center_2016_12_01_13_31_14_092.jpg\n",
      "15      IMG/center_2016_12_01_13_31_14_194.jpg\n",
      "16      IMG/center_2016_12_01_13_31_14_295.jpg\n",
      "17      IMG/center_2016_12_01_13_31_14_398.jpg\n",
      "18      IMG/center_2016_12_01_13_31_14_500.jpg\n",
      "19      IMG/center_2016_12_01_13_31_14_602.jpg\n",
      "20      IMG/center_2016_12_01_13_31_14_702.jpg\n",
      "21      IMG/center_2016_12_01_13_31_14_803.jpg\n",
      "22      IMG/center_2016_12_01_13_31_14_904.jpg\n",
      "23      IMG/center_2016_12_01_13_31_15_005.jpg\n",
      "24      IMG/center_2016_12_01_13_31_15_106.jpg\n",
      "25      IMG/center_2016_12_01_13_31_15_208.jpg\n",
      "26      IMG/center_2016_12_01_13_31_15_308.jpg\n",
      "27      IMG/center_2016_12_01_13_31_15_411.jpg\n",
      "28      IMG/center_2016_12_01_13_31_15_513.jpg\n",
      "29      IMG/center_2016_12_01_13_32_35_588.jpg\n",
      "                         ...                  \n",
      "8007    IMG/center_2016_12_01_13_46_37_480.jpg\n",
      "8008    IMG/center_2016_12_01_13_46_37_511.jpg\n",
      "8009    IMG/center_2016_12_01_13_46_37_581.jpg\n",
      "8010    IMG/center_2016_12_01_13_46_37_613.jpg\n",
      "8011    IMG/center_2016_12_01_13_46_37_682.jpg\n",
      "8012    IMG/center_2016_12_01_13_46_37_714.jpg\n",
      "8013    IMG/center_2016_12_01_13_46_37_784.jpg\n",
      "8014    IMG/center_2016_12_01_13_46_37_815.jpg\n",
      "8015    IMG/center_2016_12_01_13_46_37_887.jpg\n",
      "8016    IMG/center_2016_12_01_13_46_37_916.jpg\n",
      "8017    IMG/center_2016_12_01_13_46_37_989.jpg\n",
      "8018    IMG/center_2016_12_01_13_46_38_033.jpg\n",
      "8019    IMG/center_2016_12_01_13_46_38_090.jpg\n",
      "8020    IMG/center_2016_12_01_13_46_38_135.jpg\n",
      "8021    IMG/center_2016_12_01_13_46_38_191.jpg\n",
      "8022    IMG/center_2016_12_01_13_46_38_237.jpg\n",
      "8023    IMG/center_2016_12_01_13_46_38_294.jpg\n",
      "8024    IMG/center_2016_12_01_13_46_38_339.jpg\n",
      "8025    IMG/center_2016_12_01_13_46_38_395.jpg\n",
      "8026    IMG/center_2016_12_01_13_46_38_440.jpg\n",
      "8027    IMG/center_2016_12_01_13_46_38_497.jpg\n",
      "8028    IMG/center_2016_12_01_13_46_38_543.jpg\n",
      "8029    IMG/center_2016_12_01_13_46_38_599.jpg\n",
      "8030    IMG/center_2016_12_01_13_46_38_644.jpg\n",
      "8031    IMG/center_2016_12_01_13_46_38_700.jpg\n",
      "8032    IMG/center_2016_12_01_13_46_38_745.jpg\n",
      "8033    IMG/center_2016_12_01_13_46_38_802.jpg\n",
      "8034    IMG/center_2016_12_01_13_46_38_846.jpg\n",
      "8035    IMG/center_2016_12_01_13_46_38_922.jpg\n",
      "8036    IMG/center_2016_12_01_13_46_38_947.jpg\n",
      "Name: center, dtype: object\n"
     ]
    }
   ],
   "source": [
    "print(data['center'])"
   ]
  },
  {
   "cell_type": "code",
   "execution_count": 18,
   "metadata": {
    "collapsed": false
   },
   "outputs": [
    {
     "ename": "TypeError",
     "evalue": "bad operand type for unary -: 'str'",
     "output_type": "error",
     "traceback": [
      "\u001b[0;31m---------------------------------------------------------------------------\u001b[0m",
      "\u001b[0;31mTypeError\u001b[0m                                 Traceback (most recent call last)",
      "\u001b[0;32m<ipython-input-18-aeb8cec962b6>\u001b[0m in \u001b[0;36m<module>\u001b[0;34m()\u001b[0m\n\u001b[0;32m----> 1\u001b[0;31m \u001b[1;33m-\u001b[0m\u001b[1;33m(\u001b[0m\u001b[0mdata\u001b[0m\u001b[1;33m[\u001b[0m\u001b[1;34m'steering'\u001b[0m\u001b[1;33m]\u001b[0m\u001b[1;33m.\u001b[0m\u001b[0mvalues\u001b[0m\u001b[1;33m[\u001b[0m\u001b[1;36m1\u001b[0m\u001b[1;33m:\u001b[0m\u001b[1;33m]\u001b[0m\u001b[1;33m)\u001b[0m\u001b[1;33m\u001b[0m\u001b[0m\n\u001b[0m",
      "\u001b[0;31mTypeError\u001b[0m: bad operand type for unary -: 'str'"
     ]
    }
   ],
   "source": [
    "-(data['steering'].values[1:])"
   ]
  },
  {
   "cell_type": "code",
   "execution_count": 28,
   "metadata": {
    "collapsed": false
   },
   "outputs": [],
   "source": [
    "#-(data['steering'].values[1:])"
   ]
  },
  {
   "cell_type": "code",
   "execution_count": null,
   "metadata": {
    "collapsed": false
   },
   "outputs": [],
   "source": []
  },
  {
   "cell_type": "code",
   "execution_count": null,
   "metadata": {
    "collapsed": false
   },
   "outputs": [],
   "source": [
    "data['steering'].values[::-1] #only flips the array"
   ]
  },
  {
   "cell_type": "code",
   "execution_count": 9,
   "metadata": {
    "collapsed": false
   },
   "outputs": [
    {
     "data": {
      "text/plain": [
       "array(['steering', ' 0', ' 0', ..., ' 0', ' 0', ' 0'], dtype=object)"
      ]
     },
     "execution_count": 9,
     "metadata": {},
     "output_type": "execute_result"
    }
   ],
   "source": [
    "data['steering'].values"
   ]
  },
  {
   "cell_type": "code",
   "execution_count": 35,
   "metadata": {
    "collapsed": false
   },
   "outputs": [],
   "source": [
    "norm_steering = (data['steering'].values[1:]) #this gets rid of the first cell which is 'steering'\n"
   ]
  },
  {
   "cell_type": "code",
   "execution_count": 36,
   "metadata": {
    "collapsed": false
   },
   "outputs": [
    {
     "name": "stdout",
     "output_type": "stream",
     "text": [
      "[' 0' ' 0' ' 0' ..., ' 0' ' 0' ' 0']\n"
     ]
    }
   ],
   "source": [
    "flip_steering = norm_steering[::-1] #flip the data\n",
    "print(flip_steering)"
   ]
  },
  {
   "cell_type": "code",
   "execution_count": 37,
   "metadata": {
    "collapsed": false
   },
   "outputs": [
    {
     "data": {
      "text/plain": [
       "array([' 0', ' 0', ' 0', ..., ' 0', ' 0', ' 0'], dtype=object)"
      ]
     },
     "execution_count": 37,
     "metadata": {},
     "output_type": "execute_result"
    }
   ],
   "source": [
    "data['steering'].values[1:]"
   ]
  },
  {
   "cell_type": "code",
   "execution_count": 44,
   "metadata": {
    "collapsed": false
   },
   "outputs": [],
   "source": [
    "\n",
    "def load_data():\n",
    "    data = pandas.read_csv(\n",
    "        'D:/Self Driving Car Engineer/P3/data/driving_log.csv',\n",
    "        names=['center', 'left', 'right', 'steering', 'throttle', 'brake', 'speed']\n",
    "    )\n",
    "\n",
    "    X_train = np.transpose(\n",
    "        np.array([imresize(imread(fname), (img_height, img_width)) for fname in data['center'].values[1:]]), (0, 3, 2, 1)\n",
    "    ) / 255.0\n",
    "    y_train = data['steering'].values[1:]\n",
    "\n",
    "    X_train_flip = np.transpose(\n",
    "        np.array([np.fliplr(imresize(imread(fname), (img_height, img_width))) for fname in data['center'].values[1:]]), (0, 3, 2, 1)\n",
    "    ) / 255.0\n",
    "    #y_train_flip = -(data['steering'].values[1:])\n",
    "    #y_train_flip = data['steering'].values\n",
    "    y_train_flip = norm_steering[::-1]\n",
    "    #y_train_flip = -1*(data['steering'].values[1:])\n",
    "\n",
    "    #return np.concatenate((X_train, X_train_flip)), np.concatenate((y_train, y_train_flip))\n",
    "    return X_train, y_train\n"
   ]
  },
  {
   "cell_type": "code",
   "execution_count": null,
   "metadata": {
    "collapsed": false
   },
   "outputs": [],
   "source": []
  },
  {
   "cell_type": "code",
   "execution_count": null,
   "metadata": {
    "collapsed": true
   },
   "outputs": [],
   "source": []
  },
  {
   "cell_type": "code",
   "execution_count": 45,
   "metadata": {
    "collapsed": true
   },
   "outputs": [],
   "source": [
    "def load_weights(model):\n",
    "    f = h5py.File('D:/Self Driving Car Engineer/P3/data/vgg19_weights.h5')\n",
    "    for k in range(f.attrs['nb_layers']):\n",
    "        if k >= len(model.layers):\n",
    "            # we don't look at the last (fully-connected) layers in the savefile\n",
    "            break\n",
    "        g = f['layer_{}'.format(k)]\n",
    "        weights = [g['param_{}'.format(p)] for p in range(g.attrs['nb_params'])]\n",
    "        model.layers[k].set_weights(weights)\n",
    "    f.close()"
   ]
  },
  {
   "cell_type": "code",
   "execution_count": 46,
   "metadata": {
    "collapsed": true
   },
   "outputs": [],
   "source": [
    "def SmallNetwork():\n",
    "    model = Sequential()\n",
    "    model.add(ZeroPadding2D((1, 1), input_shape=(3, img_width, img_height)))\n",
    "    model.add(Convolution2D(32, 3, 3, activation='relu'))\n",
    "    model.add(ZeroPadding2D((1, 1)))\n",
    "    model.add(Convolution2D(32, 3, 3, activation='relu'))\n",
    "    model.add(MaxPooling2D((2, 2), strides=(2, 2)))\n",
    "    model.add(Flatten(input_shape=input_shape))\n",
    "    model.add(Dense(512, activation='relu'))\n",
    "    model.add(Dropout(0.5))\n",
    "    model.add(Dense(512, activation='relu'))\n",
    "    model.add(Dropout(0.5))\n",
    "    model.add(Dense(1))\n",
    "\n",
    "    return model"
   ]
  },
  {
   "cell_type": "code",
   "execution_count": 47,
   "metadata": {
    "collapsed": true
   },
   "outputs": [],
   "source": [
    "def VGG_19(weights_path=None):\n",
    "    model = Sequential()\n",
    "    model.add(ZeroPadding2D((1,1),input_shape=(3,224,224)))\n",
    "    model.add(Convolution2D(64, 3, 3, activation='relu'))\n",
    "    model.add(ZeroPadding2D((1,1)))\n",
    "    model.add(Convolution2D(64, 3, 3, activation='relu'))\n",
    "    model.add(MaxPooling2D((2,2), strides=(2,2)))\n",
    "\n",
    "    model.add(ZeroPadding2D((1,1)))\n",
    "    model.add(Convolution2D(128, 3, 3, activation='relu'))\n",
    "    model.add(ZeroPadding2D((1,1)))\n",
    "    model.add(Convolution2D(128, 3, 3, activation='relu'))\n",
    "    model.add(MaxPooling2D((2,2), strides=(2,2)))\n",
    "\n",
    "    model.add(ZeroPadding2D((1,1)))\n",
    "    model.add(Convolution2D(256, 3, 3, activation='relu'))\n",
    "    model.add(ZeroPadding2D((1,1)))\n",
    "    model.add(Convolution2D(256, 3, 3, activation='relu'))\n",
    "    model.add(ZeroPadding2D((1,1)))\n",
    "    model.add(Convolution2D(256, 3, 3, activation='relu'))\n",
    "    model.add(ZeroPadding2D((1,1)))\n",
    "    model.add(Convolution2D(256, 3, 3, activation='relu'))\n",
    "    model.add(MaxPooling2D((2,2), strides=(2,2)))\n",
    "\n",
    "    model.add(ZeroPadding2D((1,1)))\n",
    "    model.add(Convolution2D(512, 3, 3, activation='relu'))\n",
    "    model.add(ZeroPadding2D((1,1)))\n",
    "    model.add(Convolution2D(512, 3, 3, activation='relu'))\n",
    "    model.add(ZeroPadding2D((1,1)))\n",
    "    model.add(Convolution2D(512, 3, 3, activation='relu'))\n",
    "    model.add(ZeroPadding2D((1,1)))\n",
    "    model.add(Convolution2D(512, 3, 3, activation='relu'))\n",
    "    model.add(MaxPooling2D((2,2), strides=(2,2)))\n",
    "\n",
    "    model.add(ZeroPadding2D((1,1)))\n",
    "    model.add(Convolution2D(512, 3, 3, activation='relu'))\n",
    "    model.add(ZeroPadding2D((1,1)))\n",
    "    model.add(Convolution2D(512, 3, 3, activation='relu'))\n",
    "    model.add(ZeroPadding2D((1,1)))\n",
    "    model.add(Convolution2D(512, 3, 3, activation='relu'))\n",
    "    model.add(ZeroPadding2D((1,1)))\n",
    "    model.add(Convolution2D(512, 3, 3, activation='relu'))\n",
    "    model.add(MaxPooling2D((2,2), strides=(2,2)))\n",
    "\n",
    "    model.add(Flatten())\n",
    "    model.add(Dense(4096, activation='relu'))\n",
    "    model.add(Dropout(0.5))\n",
    "    model.add(Dense(4096, activation='relu'))\n",
    "    model.add(Dropout(0.5))\n",
    "    model.add(Dense(1000, activation='softmax'))\n",
    "\n",
    "    if weights_path:\n",
    "        model.load_weights(weights_path)\n",
    "\n",
    "    return model"
   ]
  },
  {
   "cell_type": "code",
   "execution_count": 48,
   "metadata": {
    "collapsed": false
   },
   "outputs": [
    {
     "data": {
      "text/plain": [
       "'if __name__ == \"__main__\":\\n    im = cv2.resize(cv2.imread(\\'cat.jpg\\'), (224, 224)).astype(np.float32)\\n    im[:,:,0] -= 103.939\\n    im[:,:,1] -= 116.779\\n    im[:,:,2] -= 123.68\\n    im = im.transpose((2,0,1))\\n    im = np.expand_dims(im, axis=0)\\n\\n    # Test pretrained model\\n    model = VGG_19(\\'vgg19_weights.h5\\')\\n    sgd = SGD(lr=0.1, decay=1e-6, momentum=0.9, nesterov=True)\\n    model.compile(optimizer=sgd, loss=\\'categorical_crossentropy\\')\\n    out = model.predict(im)\\n    print np.argmax(out)'"
      ]
     },
     "execution_count": 48,
     "metadata": {},
     "output_type": "execute_result"
    }
   ],
   "source": [
    "'''if __name__ == \"__main__\":\n",
    "    im = cv2.resize(cv2.imread('cat.jpg'), (224, 224)).astype(np.float32)\n",
    "    im[:,:,0] -= 103.939\n",
    "    im[:,:,1] -= 116.779\n",
    "    im[:,:,2] -= 123.68\n",
    "    im = im.transpose((2,0,1))\n",
    "    im = np.expand_dims(im, axis=0)\n",
    "\n",
    "    # Test pretrained model\n",
    "    model = VGG_19('vgg19_weights.h5')\n",
    "    sgd = SGD(lr=0.1, decay=1e-6, momentum=0.9, nesterov=True)\n",
    "    model.compile(optimizer=sgd, loss='categorical_crossentropy')\n",
    "    out = model.predict(im)\n",
    "    print np.argmax(out)'''"
   ]
  },
  {
   "cell_type": "code",
   "execution_count": 49,
   "metadata": {
    "collapsed": false
   },
   "outputs": [
    {
     "name": "stdout",
     "output_type": "stream",
     "text": [
      "Epoch 1/10\n",
      "8036/8036 [==============================] - 12s - loss: 0.0170 - acc: 0.5427    \n",
      "Epoch 2/10\n",
      "8036/8036 [==============================] - 11s - loss: 0.0158 - acc: 0.5427    \n",
      "Epoch 3/10\n",
      "8036/8036 [==============================] - 11s - loss: 0.0143 - acc: 0.5427    \n",
      "Epoch 4/10\n",
      "8036/8036 [==============================] - 11s - loss: 0.0128 - acc: 0.5427    \n",
      "Epoch 5/10\n",
      "8036/8036 [==============================] - 11s - loss: 0.0130 - acc: 0.5427    \n",
      "Epoch 6/10\n",
      "8036/8036 [==============================] - 11s - loss: 0.0116 - acc: 0.5427    \n",
      "Epoch 7/10\n",
      "8036/8036 [==============================] - 11s - loss: 0.0107 - acc: 0.5427    \n",
      "Epoch 8/10\n",
      "8036/8036 [==============================] - 11s - loss: 0.0105 - acc: 0.5427    \n",
      "Epoch 9/10\n",
      "8036/8036 [==============================] - 11s - loss: 0.0101 - acc: 0.5427    \n",
      "Epoch 10/10\n",
      "8036/8036 [==============================] - 11s - loss: 0.0099 - acc: 0.5427    \n"
     ]
    }
   ],
   "source": [
    "if __name__ == '__main__':\n",
    "    X_train, y_train = load_data()\n",
    "\n",
    "    input_shape = X_train.shape[1:]\n",
    "    n_classes = len(np.unique(y_train))\n",
    "\n",
    "    model = SmallNetwork()\n",
    "\n",
    "    opt = Adam()\n",
    "    model.compile(loss='mse', optimizer=opt, metrics=['accuracy'])\n",
    "    model.fit(X_train, y_train, batch_size=512, nb_epoch=10) #10 epochs?\n",
    "\n",
    "    with open('model.json', 'w') as fd:\n",
    "        json.dump(model.to_json(), fd)\n",
    "\n",
    "    model.save_weights('C:/CarND-Transfer-Learning-Lab/model.h5')"
   ]
  },
  {
   "cell_type": "code",
   "execution_count": null,
   "metadata": {
    "collapsed": false
   },
   "outputs": [],
   "source": []
  },
  {
   "cell_type": "code",
   "execution_count": null,
   "metadata": {
    "collapsed": true
   },
   "outputs": [],
   "source": []
  },
  {
   "cell_type": "code",
   "execution_count": null,
   "metadata": {
    "collapsed": false
   },
   "outputs": [],
   "source": [
    "\n"
   ]
  },
  {
   "cell_type": "code",
   "execution_count": null,
   "metadata": {
    "collapsed": true
   },
   "outputs": [],
   "source": []
  }
 ],
 "metadata": {
  "anaconda-cloud": {},
  "kernelspec": {
   "display_name": "Python [conda env:IntroToTensorFlow]",
   "language": "python",
   "name": "conda-env-IntroToTensorFlow-py"
  },
  "language_info": {
   "codemirror_mode": {
    "name": "ipython",
    "version": 3
   },
   "file_extension": ".py",
   "mimetype": "text/x-python",
   "name": "python",
   "nbconvert_exporter": "python",
   "pygments_lexer": "ipython3",
   "version": "3.5.2"
  }
 },
 "nbformat": 4,
 "nbformat_minor": 1
}
