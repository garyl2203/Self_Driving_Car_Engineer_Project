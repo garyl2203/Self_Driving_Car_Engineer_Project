{
 "cells": [
  {
   "cell_type": "code",
   "execution_count": 1,
   "metadata": {
    "collapsed": false
   },
   "outputs": [
    {
     "name": "stderr",
     "output_type": "stream",
     "text": [
      "Using TensorFlow backend.\n"
     ]
    }
   ],
   "source": [
    "import json\n",
    "\n",
    "import math\n",
    "import h5py\n",
    "import numpy as np\n",
    "import pandas\n",
    "import cv2\n",
    "from PIL import Image, ImageTk\n",
    "from keras.layers import Dense, ZeroPadding2D, Convolution2D, MaxPooling2D, Dropout\n",
    "from keras.layers import Flatten\n",
    "from keras.models import Sequential\n",
    "from keras.optimizers import Adam\n",
    "from scipy.ndimage import imread\n",
    "from sklearn.utils import shuffle\n",
    "from collections import defaultdict\n",
    "import scipy\n",
    "from scipy.misc import imresize\n",
    "from scipy.misc import toimage\n",
    "import cv2, numpy as np\n",
    "\n",
    "import csv\n"
   ]
  },
  {
   "cell_type": "code",
   "execution_count": 26,
   "metadata": {
    "collapsed": true
   },
   "outputs": [],
   "source": [
    "global data, y_train\n",
    "stats = defaultdict(float)"
   ]
  },
  {
   "cell_type": "code",
   "execution_count": 27,
   "metadata": {
    "collapsed": false
   },
   "outputs": [],
   "source": [
    "#from model_utils import read_shuffle_split_data, get_training_data_generator, get_validation_data_generator"
   ]
  },
  {
   "cell_type": "code",
   "execution_count": 28,
   "metadata": {
    "collapsed": false
   },
   "outputs": [
    {
     "data": {
      "text/plain": [
       "'0.18.1'"
      ]
     },
     "execution_count": 28,
     "metadata": {},
     "output_type": "execute_result"
    }
   ],
   "source": [
    "scipy.__version__"
   ]
  },
  {
   "cell_type": "code",
   "execution_count": null,
   "metadata": {
    "collapsed": false
   },
   "outputs": [],
   "source": []
  },
  {
   "cell_type": "code",
   "execution_count": 29,
   "metadata": {
    "collapsed": true
   },
   "outputs": [],
   "source": [
    "data = pandas.read_csv(\n",
    "        'D:/Self Driving Car Engineer/P3/data/driving_log.csv',\n",
    "        names=['center', 'left', 'right', 'steering', 'throttle', 'brake', 'speed'])"
   ]
  },
  {
   "cell_type": "code",
   "execution_count": null,
   "metadata": {
    "collapsed": false
   },
   "outputs": [],
   "source": []
  },
  {
   "cell_type": "code",
   "execution_count": 30,
   "metadata": {
    "collapsed": true
   },
   "outputs": [],
   "source": [
    "line_number = np.random.randint(len(data))\n",
    "data_to_process = data.iloc[[line_number]].reset_index()  "
   ]
  },
  {
   "cell_type": "code",
   "execution_count": 31,
   "metadata": {
    "collapsed": false
   },
   "outputs": [
    {
     "data": {
      "text/html": [
       "<div>\n",
       "<table border=\"1\" class=\"dataframe\">\n",
       "  <thead>\n",
       "    <tr style=\"text-align: right;\">\n",
       "      <th></th>\n",
       "      <th>index</th>\n",
       "      <th>center</th>\n",
       "      <th>left</th>\n",
       "      <th>right</th>\n",
       "      <th>steering</th>\n",
       "      <th>throttle</th>\n",
       "      <th>brake</th>\n",
       "      <th>speed</th>\n",
       "    </tr>\n",
       "  </thead>\n",
       "  <tbody>\n",
       "    <tr>\n",
       "      <th>0</th>\n",
       "      <td>4218</td>\n",
       "      <td>IMG/center_2016_12_01_13_39_45_674.jpg</td>\n",
       "      <td>IMG/left_2016_12_01_13_39_45_674.jpg</td>\n",
       "      <td>IMG/right_2016_12_01_13_39_45_674.jpg</td>\n",
       "      <td>0</td>\n",
       "      <td>0.783815</td>\n",
       "      <td>0</td>\n",
       "      <td>30.13503</td>\n",
       "    </tr>\n",
       "  </tbody>\n",
       "</table>\n",
       "</div>"
      ],
      "text/plain": [
       "   index                                  center  \\\n",
       "0   4218  IMG/center_2016_12_01_13_39_45_674.jpg   \n",
       "\n",
       "                                    left  \\\n",
       "0   IMG/left_2016_12_01_13_39_45_674.jpg   \n",
       "\n",
       "                                    right steering   throttle brake      speed  \n",
       "0   IMG/right_2016_12_01_13_39_45_674.jpg        0   0.783815     0   30.13503  "
      ]
     },
     "execution_count": 31,
     "metadata": {},
     "output_type": "execute_result"
    }
   ],
   "source": [
    "data.iloc[[line_number]].reset_index()  "
   ]
  },
  {
   "cell_type": "code",
   "execution_count": 32,
   "metadata": {
    "collapsed": true
   },
   "outputs": [],
   "source": [
    "#shift_ang = 55"
   ]
  },
  {
   "cell_type": "code",
   "execution_count": 11,
   "metadata": {
    "collapsed": true
   },
   "outputs": [],
   "source": [
    "#data_to_process['steering'][0]"
   ]
  },
  {
   "cell_type": "code",
   "execution_count": null,
   "metadata": {
    "collapsed": false
   },
   "outputs": [],
   "source": []
  },
  {
   "cell_type": "code",
   "execution_count": 33,
   "metadata": {
    "collapsed": false
   },
   "outputs": [],
   "source": [
    "# Turn RGB colour image to Hue, saturation and value and randomizes the value to change the brightness.\n",
    "#\n",
    "#In computer vision you often want to separate color components from intensity for various reasons, \n",
    "#such as robustness to lighting changes, or removing shadows. \n",
    "#\n",
    "# \n",
    "def randomize_brightness(image):\n",
    "    image = cv2.cvtColor(image, cv2.COLOR_RGB2HSV)\n",
    "    random_brightness = .1 + np.random.uniform()\n",
    "    image[:,:,2] = image[:,:,2] * random_brightness\n",
    "    image = cv2.cvtColor(image, cv2.COLOR_HSV2RGB)\n",
    "    return image"
   ]
  },
  {
   "cell_type": "code",
   "execution_count": 34,
   "metadata": {
    "collapsed": false
   },
   "outputs": [],
   "source": [
    "#crop the image so not to include too much noise and just learn on the road sections\n",
    "img_width = 64\n",
    "img_height = 64\n",
    "\n",
    "batch_size = 256\n",
    "epochs = 1\n",
    "\n",
    "def random_generator():\n",
    "    global data, stats\n",
    "    \n",
    "    data = shuffle(data)\n",
    "    images = np.zeros((batch_size, img_width, img_height, 3))\n",
    "    steerings = np.zeros(batch_size)    \n",
    "    \n",
    "    #randomly select an image, this will help in the learning process\n",
    "    while True:\n",
    "        for i_batch in range(batch_size):\n",
    "            line_number = np.random.randint(len(data))\n",
    "            data_to_process = data.iloc[[line_number]].reset_index()                    \n",
    "            # Get center, left or right image, adjust steering accordingly\n",
    "            rand = np.random.randint(3)\n",
    "            if (rand == 0):\n",
    "                path_file = data_to_process['left'][0].strip()\n",
    "                shift_ang = .3\n",
    "            elif (rand == 1):\n",
    "                path_file = data_to_process['right'][0].strip()\n",
    "                shift_ang = -.3\n",
    "            else:\n",
    "                path_file = data_to_process['center'][0].lstrip()\n",
    "                shift_ang = 0\n",
    "            \n",
    "            if data_to_process['steering'][0].lstrip() == 'steering': #skips the data heading with 'steering'\n",
    "                continue                  \n",
    "            steering = float(data_to_process['steering'][0].lstrip()) + shift_ang\n",
    "            \n",
    "            #normalize image, add brightness, crop\n",
    "            image = cv2.imread(path_file.strip())\n",
    "            image = cv2.cvtColor(image, cv2.COLOR_BGR2RGB)\n",
    "            image = randomize_brightness(image)\n",
    "            shape = image.shape\n",
    "            image = image[math.floor(shape[0] / 5.):shape[0] - 25, 0:shape[1]]\n",
    "            image = cv2.resize(image, (img_height, img_width), interpolation=cv2.INTER_AREA)\n",
    "            image = image / 255.\n",
    "            image = np.array(image)\n",
    "\n",
    "            #flip the image 50% of the time - thanks to my mentor for this - this will prevent the model from\n",
    "            # bias and overfitting\n",
    "            if np.random.randint(2) == 0:\n",
    "                image = cv2.flip(image, 1)\n",
    "                steering = -steering\n",
    "                \n",
    "            images[i_batch] = image\n",
    "            steerings[i_batch] = steering\n",
    "            stats[round(steering, 1)] += 1\n",
    "        yield images, steerings"
   ]
  },
  {
   "cell_type": "code",
   "execution_count": 35,
   "metadata": {
    "collapsed": false
   },
   "outputs": [],
   "source": [
    "def load_data():\n",
    "    global data, y_train\n",
    "\n",
    "    data = pandas.read_csv('D:/Self Driving Car Engineer/P3/data/driving_log.csv', names=['center', 'left', 'right', 'steering', 'throttle', 'break', 'speed'])    \n",
    "    y_train = data['steering'].values[1:]  #skip the header with 'steering'"
   ]
  },
  {
   "cell_type": "code",
   "execution_count": 36,
   "metadata": {
    "collapsed": true
   },
   "outputs": [],
   "source": [
    "y_train = data['steering'].values[1:]"
   ]
  },
  {
   "cell_type": "code",
   "execution_count": 37,
   "metadata": {
    "collapsed": false
   },
   "outputs": [
    {
     "data": {
      "text/plain": [
       "8036"
      ]
     },
     "execution_count": 37,
     "metadata": {},
     "output_type": "execute_result"
    }
   ],
   "source": [
    "len(y_train)"
   ]
  },
  {
   "cell_type": "code",
   "execution_count": 41,
   "metadata": {
    "collapsed": false
   },
   "outputs": [],
   "source": [
    "def Network(input_shape):\n",
    "    model = Sequential()\n",
    "    \n",
    "    #32 filters of size 3x3, number of samples is 256 x 32 = 8192\n",
    "    model.add(ZeroPadding2D((1, 1), input_shape=(img_width, img_height, 3)))\n",
    "    model.add(Convolution2D(32, 3, 3, activation='elu'))\n",
    "    model.add(ZeroPadding2D((1, 1)))\n",
    "    model.add(Convolution2D(32, 3, 3, activation='elu'))\n",
    "    model.add(MaxPooling2D((2, 2), strides=(2, 2)))\n",
    "    model.add(ZeroPadding2D((1, 1), input_shape=(img_width, img_height, 3)))\n",
    "    model.add(Convolution2D(64, 3, 3, activation='elu'))\n",
    "    model.add(ZeroPadding2D((1, 1)))\n",
    "    model.add(Convolution2D(64, 3, 3, activation='elu'))\n",
    "    model.add(MaxPooling2D((2, 2), strides=(2, 2)))\n",
    "    model.add(Dropout(0.5))    \n",
    "    model.add(ZeroPadding2D((1, 1), input_shape=(img_width, img_height, 3)))\n",
    "    model.add(Convolution2D(128, 3, 3, activation='elu'))\n",
    "    model.add(ZeroPadding2D((1, 1)))\n",
    "    model.add(Convolution2D(128, 3, 3, activation='elu'))\n",
    "    model.add(MaxPooling2D((2, 2), strides=(2, 2)))    \n",
    "    model.add(Flatten(input_shape=input_shape))\n",
    "    model.add(Dense(256, activation='elu'))\n",
    "    model.add(Dropout(0.5))    \n",
    "    model.add(Dense(64, activation='elu'))\n",
    "    model.add(Dense(1))\n",
    "    \n",
    "    return model"
   ]
  },
  {
   "cell_type": "code",
   "execution_count": 42,
   "metadata": {
    "collapsed": false
   },
   "outputs": [
    {
     "name": "stdout",
     "output_type": "stream",
     "text": [
      "Epoch 1/1\n",
      "8192/8192 [==============================] - 233s - loss: 0.0732 - val_loss: 0.0672\n",
      "Epoch 1/1\n",
      "8192/8192 [==============================] - 231s - loss: 0.0548 - val_loss: 0.0488\n",
      "Epoch 1/1\n",
      "8192/8192 [==============================] - 230s - loss: 0.0452 - val_loss: 0.0486\n",
      "Epoch 1/1\n",
      "8192/8192 [==============================] - 231s - loss: 0.0402 - val_loss: 0.0393\n",
      "Epoch 1/1\n",
      "8192/8192 [==============================] - 232s - loss: 0.0393 - val_loss: 0.0415\n",
      "Epoch 1/1\n",
      "8192/8192 [==============================] - 233s - loss: 0.0388 - val_loss: 0.0439\n"
     ]
    }
   ],
   "source": [
    "if __name__ == '__main__':\n",
    "    global y_train, stats\n",
    "\n",
    "    load_data()\n",
    "\n",
    "    input_shape = (3, img_width, img_height)\n",
    "    model = Network(input_shape)\n",
    "    opt = Adam(lr=0.0001)\n",
    "    model.compile(loss='mse', optimizer=opt)\n",
    "    \n",
    "    for i in range(6):\n",
    "        train_generator = random_generator()\n",
    "        train_validator = random_generator()\n",
    "        model.fit_generator(train_generator, samples_per_epoch=8192, nb_epoch=epochs, validation_data=train_validator, nb_val_samples=len(y_train) / 6)\n",
    "\n",
    "\n",
    "    with open('model.json', 'w') as fd:\n",
    "        json.dump(model.to_json(), fd)\n",
    "\n",
    "    model.save_weights('C:/CarND-Transfer-Learning-Lab/model.h5')\n",
    " "
   ]
  },
  {
   "cell_type": "code",
   "execution_count": null,
   "metadata": {
    "collapsed": true
   },
   "outputs": [],
   "source": []
  },
  {
   "cell_type": "code",
   "execution_count": null,
   "metadata": {
    "collapsed": false
   },
   "outputs": [],
   "source": []
  },
  {
   "cell_type": "code",
   "execution_count": null,
   "metadata": {
    "collapsed": true
   },
   "outputs": [],
   "source": []
  },
  {
   "cell_type": "code",
   "execution_count": null,
   "metadata": {
    "collapsed": true
   },
   "outputs": [],
   "source": []
  },
  {
   "cell_type": "code",
   "execution_count": null,
   "metadata": {
    "collapsed": true
   },
   "outputs": [],
   "source": []
  }
 ],
 "metadata": {
  "anaconda-cloud": {},
  "kernelspec": {
   "display_name": "Python [conda env:IntroToTensorFlow]",
   "language": "python",
   "name": "conda-env-IntroToTensorFlow-py"
  },
  "language_info": {
   "codemirror_mode": {
    "name": "ipython",
    "version": 3
   },
   "file_extension": ".py",
   "mimetype": "text/x-python",
   "name": "python",
   "nbconvert_exporter": "python",
   "pygments_lexer": "ipython3",
   "version": "3.5.2"
  }
 },
 "nbformat": 4,
 "nbformat_minor": 1
}
